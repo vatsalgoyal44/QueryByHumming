{
 "cells": [
  {
   "cell_type": "code",
   "execution_count": 1,
   "id": "f9bf89df",
   "metadata": {},
   "outputs": [],
   "source": [
    "import os\n",
    "import pretty_midi\n",
    "import numpy as np"
   ]
  },
  {
   "cell_type": "code",
   "execution_count": 2,
   "id": "d7c3054a",
   "metadata": {},
   "outputs": [
    {
     "name": "stdout",
     "output_type": "stream",
     "text": [
      "220\n"
     ]
    }
   ],
   "source": [
    "samplingrate = 22050\n",
    "hopsize = 22050//100\n",
    "print(hopsize)"
   ]
  },
  {
   "cell_type": "code",
   "execution_count": 3,
   "id": "d7201723",
   "metadata": {},
   "outputs": [
    {
     "name": "stdout",
     "output_type": "stream",
     "text": [
      "['00044', '00045', '00047', '00046', '00042', '00043', '00041', '00040', '00033', '00027', '00026', '00032', '00018', '00024', '00030', '00031', '00025', '00019', '00021', '00035', '00009', '00008', '00034', '00020', '00036', '00022', '00023', '00037', '00012', '00006', '00007', '00013', '00039', '00005', '00011', '00010', '00004', '00038', '00014', '00028', '00029', '00015', '00001', '00017', '00003', '00002', '00016', '00048']\n"
     ]
    }
   ],
   "source": [
    "dirlist=[]\n",
    "datasetpath = \"trueMidi/midiFile\"\n",
    "for track in os.listdir(datasetpath):\n",
    "    if(track[len(track)-3:]== \"mid\"):\n",
    "        dirlist.append(track[:track.rfind('.')])\n",
    "\n",
    "\n",
    "print(dirlist)"
   ]
  },
  {
   "cell_type": "code",
   "execution_count": 4,
   "id": "8baa57a7",
   "metadata": {},
   "outputs": [],
   "source": [
    "for track in dirlist:\n",
    "    filepath = 'trueMidi/midiFile/'+track+'.mid'\n",
    "    midi_data = pretty_midi.PrettyMIDI(filepath)\n",
    "    \n",
    "    i=0\n",
    "    for instrument in midi_data.instruments:\n",
    "        track_name_new = track + str(i)\n",
    "        note_pitches = []\n",
    "        onset = []\n",
    "        offset = []\n",
    "\n",
    "        if not instrument.is_drum:\n",
    "            i=i+1\n",
    "            #creates a list of all the notes played, and corresponding lists for onsets and offsets\n",
    "            for note in instrument.notes:\n",
    "                \n",
    "                note_pitches.append(note.pitch)\n",
    "                onset.append((note.start)*np.float(samplingrate)/np.float(hopsize))\n",
    "                offset.append((note.end)*np.float(samplingrate)/np.float(hopsize))\n",
    "\n",
    "            note = [note_pitches,onset,offset]\n",
    "            note = np.asarray(note)\n",
    "            outputfilename = 'trueMidi/pitchestimates/'+track_name_new\n",
    "            np.save(outputfilename, note)"
   ]
  },
  {
   "cell_type": "code",
   "execution_count": null,
   "id": "dae79ac5",
   "metadata": {},
   "outputs": [],
   "source": []
  },
  {
   "cell_type": "code",
   "execution_count": null,
   "id": "8045d7d5",
   "metadata": {},
   "outputs": [],
   "source": []
  },
  {
   "cell_type": "code",
   "execution_count": null,
   "id": "159dafbf",
   "metadata": {},
   "outputs": [],
   "source": []
  }
 ],
 "metadata": {
  "kernelspec": {
   "display_name": "pytest",
   "language": "python",
   "name": "pytest"
  },
  "language_info": {
   "codemirror_mode": {
    "name": "ipython",
    "version": 3
   },
   "file_extension": ".py",
   "mimetype": "text/x-python",
   "name": "python",
   "nbconvert_exporter": "python",
   "pygments_lexer": "ipython3",
   "version": "3.7.16"
  }
 },
 "nbformat": 4,
 "nbformat_minor": 5
}
